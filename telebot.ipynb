{
 "cells": [
  {
   "cell_type": "code",
   "execution_count": 1,
   "metadata": {},
   "outputs": [],
   "source": [
    "import telebot"
   ]
  },
  {
   "cell_type": "code",
   "execution_count": null,
   "metadata": {},
   "outputs": [
    {
     "name": "stderr",
     "output_type": "stream",
     "text": [
      "2020-04-23 13:54:37,874 (util.py:66 PollingThread) ERROR - TeleBot: \"ApiException occurred, args=('A request to the Telegram API was unsuccessful. The server returned HTTP 409 Conflict. Response body:\\n[b\\'{\"ok\":false,\"error_code\":409,\"description\":\"Conflict: terminated by other getUpdates request; make sure that only one bot instance is running\"}\\']',)\n",
      "Traceback (most recent call last):\n",
      "  File \"/home/leme/anaconda3/lib/python3.7/site-packages/telebot/util.py\", line 60, in run\n",
      "    task(*args, **kwargs)\n",
      "  File \"/home/leme/anaconda3/lib/python3.7/site-packages/telebot/__init__.py\", line 279, in __retrieve_updates\n",
      "    updates = self.get_updates(offset=(self.last_update_id + 1), timeout=timeout)\n",
      "  File \"/home/leme/anaconda3/lib/python3.7/site-packages/telebot/__init__.py\", line 249, in get_updates\n",
      "    json_updates = apihelper.get_updates(self.token, offset, limit, timeout, allowed_updates)\n",
      "  File \"/home/leme/anaconda3/lib/python3.7/site-packages/telebot/apihelper.py\", line 194, in get_updates\n",
      "    return _make_request(token, method_url, params=payload)\n",
      "  File \"/home/leme/anaconda3/lib/python3.7/site-packages/telebot/apihelper.py\", line 60, in _make_request\n",
      "    return _check_result(method_name, result)['result']\n",
      "  File \"/home/leme/anaconda3/lib/python3.7/site-packages/telebot/apihelper.py\", line 79, in _check_result\n",
      "    raise ApiException(msg, method_name, result)\n",
      "telebot.apihelper.ApiException: A request to the Telegram API was unsuccessful. The server returned HTTP 409 Conflict. Response body:\n",
      "[b'{\"ok\":false,\"error_code\":409,\"description\":\"Conflict: terminated by other getUpdates request; make sure that only one bot instance is running\"}']\n",
      "\"\n"
     ]
    }
   ],
   "source": [
    "bot = telebot.TeleBot(\"1182419980:AAHJzlDhapNBy1kqR-XKWB5n6xpdGw6WXiw\")\n",
    "\n",
    "@bot.message_handler(commands=['start', 'help'])\n",
    "def send_welcome(message):\n",
    "    bot.reply_to(message, \"Salve, Salve Grupo Turing!\")\n",
    "\n",
    "@bot.message_handler(regexp=\"Pistola\")\n",
    "def handle_message(message):\n",
    "    bot.reply_to(message, \"Vc quis dizer Azank??\")\n",
    "    \n",
    "@bot.message_handler(content_types=['document', 'audio'])\n",
    "def handle_docs_audio(message):\n",
    "    bot.reply_to(message, \"Oloko mandou a braba\")\n",
    "\n",
    "bot.polling()"
   ]
  }
 ],
 "metadata": {
  "kernelspec": {
   "display_name": "Python 3",
   "language": "python",
   "name": "python3"
  },
  "language_info": {
   "codemirror_mode": {
    "name": "ipython",
    "version": 3
   },
   "file_extension": ".py",
   "mimetype": "text/x-python",
   "name": "python",
   "nbconvert_exporter": "python",
   "pygments_lexer": "ipython3",
   "version": "3.7.4"
  }
 },
 "nbformat": 4,
 "nbformat_minor": 4
}
